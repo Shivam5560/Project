{
 "cells": [
  {
   "cell_type": "markdown",
   "id": "7cd810e6",
   "metadata": {},
   "source": [
    "# DEPTH FIRST SEARCH (DFS)"
   ]
  },
  {
   "cell_type": "code",
   "execution_count": 26,
   "id": "adb36c57",
   "metadata": {},
   "outputs": [
    {
     "name": "stdout",
     "output_type": "stream",
     "text": [
      "['b', 'e', 'c', 'd', 'a']\n"
     ]
    }
   ],
   "source": [
    "def dfs(visited,root):\n",
    "    visited.append(root)\n",
    "    for x in dic[root]:\n",
    "        if x not in visited:\n",
    "            dfs(visited,x)\n",
    "    \n",
    "\n",
    "visited = list()\n",
    "#dic = {'a':['e','b','g'],'b':['a','h','g','f','c'],'c':['b','h','d'],'d':['c','e'],'e':['a','d','f'],'f':['e','b'],'g':['a','b'],'h':['b','c']}\n",
    "\n",
    "dic= {'a':['b','d','c'],'b':['e','a'],'c':['d','e','a'],'d':['c','a'],'e':['b','c']}\n",
    "source_node = 'b'\n",
    "dfs(visited,source_node)\n",
    "print(visited)"
   ]
  },
  {
   "cell_type": "code",
   "execution_count": 23,
   "id": "e5de12ff",
   "metadata": {},
   "outputs": [
    {
     "name": "stdout",
     "output_type": "stream",
     "text": [
      "0 1 4 2 3 "
     ]
    }
   ],
   "source": [
    "def dfs_helper(v,visited,graph):\n",
    "    visited[v] = True\n",
    "    print(v,end=' ')\n",
    "    for i in graph[v]:\n",
    "        if visited[i]==False:\n",
    "            dfs_helper(i,visited,graph)\n",
    "            \n",
    "def dfs1(graph):\n",
    "    v = len(graph)\n",
    "    visited=[False]*v\n",
    "    for i in range(v):\n",
    "        if visited[i]==False:\n",
    "            dfs_helper(i,visited,graph)\n",
    "\n",
    "dic= {0:[1,3,2],1:[4,0],2:[3,4,0],3:[2,0],4:[1,2]}\n",
    "#new_dic = {0:[4,2,6],1:[0,7,6,5,2],2:[1,7,3],3:[2,4],4:[0,3,5],5:[4,1],6:[0,1],7:[1,2]}\n",
    "dfs1(dic)"
   ]
  }
 ],
 "metadata": {
  "kernelspec": {
   "display_name": "Python 3 (ipykernel)",
   "language": "python",
   "name": "python3"
  },
  "language_info": {
   "codemirror_mode": {
    "name": "ipython",
    "version": 3
   },
   "file_extension": ".py",
   "mimetype": "text/x-python",
   "name": "python",
   "nbconvert_exporter": "python",
   "pygments_lexer": "ipython3",
   "version": "3.9.12"
  }
 },
 "nbformat": 4,
 "nbformat_minor": 5
}
